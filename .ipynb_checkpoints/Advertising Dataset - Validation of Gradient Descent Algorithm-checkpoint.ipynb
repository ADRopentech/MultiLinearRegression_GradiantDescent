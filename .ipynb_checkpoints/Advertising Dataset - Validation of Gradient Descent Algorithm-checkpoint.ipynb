{
 "cells": [
  {
   "cell_type": "code",
   "execution_count": 1,
   "id": "c607b26a",
   "metadata": {},
   "outputs": [],
   "source": [
    "import numpy as np\n",
    "import pandas as pd\n",
    "import matplotlib.pyplot as plt\n",
    "import seaborn as sns\n",
    "import pickle as pk"
   ]
  },
  {
   "cell_type": "code",
   "execution_count": 2,
   "id": "cd1ff29d",
   "metadata": {},
   "outputs": [],
   "source": [
    "#Original munged data from the advertising dataset as a numpy array\n",
    "\n",
    "adv_array = np.array([[230.1, 37.8, 69.2, 22.1], [44.5, 39.3, 45.1, 10.4], [17.2, 45.9, 69.3, 9.3], [151.5, 41.3, 58.5, 18.5], [180.8, 10.8, 58.4, 12.9], [8.7, 48.9, 75.0, 7.2], [57.5, 32.8, 23.5, 11.8], [120.2, 19.6, 11.6, 13.2], [8.6, 2.1, 1.0, 4.8], [199.8, 2.6, 21.2, 10.6], [66.1, 5.8, 24.2, 8.6], [214.7, 24.0, 4.0, 17.4], [23.8, 35.1, 65.9, 9.2], [97.5, 7.6, 7.2, 9.7], [204.1, 32.9, 46.0, 19.0], [195.4, 47.7, 52.9, 22.4], [67.8, 36.6, 114.0, 12.5], [281.4, 39.6, 55.8, 24.4], [69.2, 20.5, 18.3, 11.3], [147.3, 23.9, 19.1, 14.6], [218.4, 27.7, 53.4, 18.0], [237.4, 5.1, 23.5, 12.5], [13.2, 15.9, 49.6, 5.6], [228.3, 16.9, 26.2, 15.5], [62.3, 12.6, 18.3, 9.7], [262.9, 3.5, 19.5, 12.0], [142.9, 29.3, 12.6, 15.0], [240.1, 16.7, 22.9, 15.9], [248.8, 27.1, 22.9, 18.9], [70.6, 16.0, 40.8, 10.5], [292.9, 28.3, 43.2, 21.4], [112.9, 17.4, 38.6, 11.9], [97.2, 1.5, 30.0, 9.6], [265.6, 20.0, 0.3, 17.4], [95.7, 1.4, 7.4, 9.5], [290.7, 4.1, 8.5, 12.8], [266.9, 43.8, 5.0, 25.4], [74.7, 49.4, 45.7, 14.7], [43.1, 26.7, 35.1, 10.1], [228.0, 37.7, 32.0, 21.5], [202.5, 22.3, 31.6, 16.6], [177.0, 33.4, 38.7, 17.1], [293.6, 27.7, 1.8, 20.7], [206.9, 8.4, 26.4, 12.9], [25.1, 25.7, 43.3, 8.5], [175.1, 22.5, 31.5, 14.9], [89.7, 9.9, 35.7, 10.6], [239.9, 41.5, 18.5, 23.2], [227.2, 15.8, 49.9, 14.8], [66.9, 11.7, 36.8, 9.7], [199.8, 3.1, 34.6, 11.4], [100.4, 9.6, 3.6, 10.7], [216.4, 41.7, 39.6, 22.6], [182.6, 46.2, 58.7, 21.2], [262.7, 28.8, 15.9, 20.2], [198.9, 49.4, 60.0, 23.7], [7.3, 28.1, 41.4, 5.5], [136.2, 19.2, 16.6, 13.2], [210.8, 49.6, 37.7, 23.8], [210.7, 29.5, 9.3, 18.4], [53.5, 2.0, 21.4, 8.1], [261.3, 42.7, 54.7, 24.2], [239.3, 15.5, 27.3, 15.7], [102.7, 29.6, 8.4, 14.0], [131.1, 42.8, 28.9, 18.0], [69.0, 9.3, 0.9, 9.3], [31.5, 24.6, 2.2, 9.5], [139.3, 14.5, 10.2, 13.4], [237.4, 27.5, 11.0, 18.9], [216.8, 43.9, 27.2, 22.3], [199.1, 30.6, 38.7, 18.3], [109.8, 14.3, 31.7, 12.4], [26.8, 33.0, 19.3, 8.8], [129.4, 5.7, 31.3, 11.0], [213.4, 24.6, 13.1, 17.0], [16.9, 43.7, 89.4, 8.7], [27.5, 1.6, 20.7, 6.9], [120.5, 28.5, 14.2, 14.2], [5.4, 29.9, 9.4, 5.3], [116.0, 7.7, 23.1, 11.0], [76.4, 26.7, 22.3, 11.8], [239.8, 4.1, 36.9, 12.3], [75.3, 20.3, 32.5, 11.3], [68.4, 44.5, 35.6, 13.6], [213.5, 43.0, 33.8, 21.7], [193.2, 18.4, 65.7, 15.2], [76.3, 27.5, 16.0, 12.0], [110.7, 40.6, 63.2, 16.0], [88.3, 25.5, 73.4, 12.9], [109.8, 47.8, 51.4, 16.7], [134.3, 4.9, 9.3, 11.2], [28.6, 1.5, 33.0, 7.3], [217.7, 33.5, 59.0, 19.4], [250.9, 36.5, 72.3, 22.2], [107.4, 14.0, 10.9, 11.5], [163.3, 31.6, 52.9, 16.9], [197.6, 3.5, 5.9, 11.7], [184.9, 21.0, 22.0, 15.5], [289.7, 42.3, 51.2, 25.4], [135.2, 41.7, 45.9, 17.2], [222.4, 4.3, 49.8, 11.7], [296.4, 36.3, 100.9, 23.8], [280.2, 10.1, 21.4, 14.8], [187.9, 17.2, 17.9, 14.7], [238.2, 34.3, 5.3, 20.7], [137.9, 46.4, 59.0, 19.2], [25.0, 11.0, 29.7, 7.2], [90.4, 0.3, 23.2, 8.7], [13.1, 0.4, 25.6, 5.3], [255.4, 26.9, 5.5, 19.8], [225.8, 8.2, 56.5, 13.4], [241.7, 38.0, 23.2, 21.8], [175.7, 15.4, 2.4, 14.1], [209.6, 20.6, 10.7, 15.9], [78.2, 46.8, 34.5, 14.6], [75.1, 35.0, 52.7, 12.6], [139.2, 14.3, 25.6, 12.2], [76.4, 0.8, 14.8, 9.4], [125.7, 36.9, 79.2, 15.9], [19.4, 16.0, 22.3, 6.6], [141.3, 26.8, 46.2, 15.5], [18.8, 21.7, 50.4, 7.0], [224.0, 2.4, 15.6, 11.6], [123.1, 34.6, 12.4, 15.2], [229.5, 32.3, 74.2, 19.7], [87.2, 11.8, 25.9, 10.6], [7.8, 38.9, 50.6, 6.6], [80.2, 0.0, 9.2, 8.8], [220.3, 49.0, 3.2, 24.7], [59.6, 12.0, 43.1, 9.7], [0.7, 39.6, 8.7, 1.6], [265.2, 2.9, 43.0, 12.7], [8.4, 27.2, 2.1, 5.7], [219.8, 33.5, 45.1, 19.6], [36.9, 38.6, 65.6, 10.8], [48.3, 47.0, 8.5, 11.6], [25.6, 39.0, 9.3, 9.5], [273.7, 28.9, 59.7, 20.8], [43.0, 25.9, 20.5, 9.6], [184.9, 43.9, 1.7, 20.7], [73.4, 17.0, 12.9, 10.9], [193.7, 35.4, 75.6, 19.2], [220.5, 33.2, 37.9, 20.1], [104.6, 5.7, 34.4, 10.4], [96.2, 14.8, 38.9, 11.4], [140.3, 1.9, 9.0, 10.3], [240.1, 7.3, 8.7, 13.2], [243.2, 49.0, 44.3, 25.4], [38.0, 40.3, 11.9, 10.9], [44.7, 25.8, 20.6, 10.1], [280.7, 13.9, 37.0, 16.1], [121.0, 8.4, 48.7, 11.6], [197.6, 23.3, 14.2, 16.6], [171.3, 39.7, 37.7, 19.0], [187.8, 21.1, 9.5, 15.6], [4.1, 11.6, 5.7, 3.2], [93.9, 43.5, 50.5, 15.3], [149.8, 1.3, 24.3, 10.1], [11.7, 36.9, 45.2, 7.3], [131.7, 18.4, 34.6, 12.9], [172.5, 18.1, 30.7, 14.4], [85.7, 35.8, 49.3, 13.3], [188.4, 18.1, 25.6, 14.9], [163.5, 36.8, 7.4, 18.0], [117.2, 14.7, 5.4, 11.9], [234.5, 3.4, 84.8, 11.9], [17.9, 37.6, 21.6, 8.0], [206.8, 5.2, 19.4, 12.2], [215.4, 23.6, 57.6, 17.1], [284.3, 10.6, 6.4, 15.0], [50.0, 11.6, 18.4, 8.4], [164.5, 20.9, 47.4, 14.5], [19.6, 20.1, 17.0, 7.6], [168.4, 7.1, 12.8, 11.7], [222.4, 3.4, 13.1, 11.5], [276.9, 48.9, 41.8, 27.0], [248.4, 30.2, 20.3, 20.2], [170.2, 7.8, 35.2, 11.7], [276.7, 2.3, 23.7, 11.8], [165.6, 10.0, 17.6, 12.6], [156.6, 2.6, 8.3, 10.5], [218.5, 5.4, 27.4, 12.2], [56.2, 5.7, 29.7, 8.7], [287.6, 43.0, 71.8, 26.2], [253.8, 21.3, 30.0, 17.6], [205.0, 45.1, 19.6, 22.6], [139.5, 2.1, 26.6, 10.3], [191.1, 28.7, 18.2, 17.3], [286.0, 13.9, 3.7, 15.9], [18.7, 12.1, 23.4, 6.7], [39.5, 41.1, 5.8, 10.8], [75.5, 10.8, 6.0, 9.9], [17.2, 4.1, 31.6, 5.9], [166.8, 42.0, 3.6, 19.6], [149.7, 35.6, 6.0, 17.3], [38.2, 3.7, 13.8, 7.6], [94.2, 4.9, 8.1, 9.7], [177.0, 9.3, 6.4, 12.8], [283.6, 42.0, 66.2, 25.5], [232.1, 8.6, 8.7, 13.4]])"
   ]
  },
  {
   "cell_type": "code",
   "execution_count": 3,
   "id": "583d482b",
   "metadata": {},
   "outputs": [],
   "source": [
    "#Transforming adv_array into a dataframe\n",
    "#Output array has two columns. The first column contains lists of the feature values. The second column contains the target value.\n",
    "#The feature value lists all have 1 appended to the head of the list. This is to smooth the loop functions later. \n",
    "\n",
    "numberOfDataPoints = len(adv_array)\n",
    "adv_arrayV2 = []\n",
    "i=0\n",
    "while i < numberOfDataPoints:\n",
    "    Features = [None]*4\n",
    "    Features[0] = 1\n",
    "    j=1\n",
    "    while j < 4:\n",
    "        Features[j] = adv_array[i][j-1]\n",
    "        j = j+1\n",
    "    Target = adv_array[i][3]\n",
    "    newLine = [None]*2\n",
    "    adv_arrayV2.append(newLine)\n",
    "    adv_arrayV2[i][0] = Features\n",
    "    adv_arrayV2[i][1] = Target\n",
    "    i = i+1\n",
    "\n",
    "   \n",
    "adv_dataframe = pd.DataFrame(data=adv_arrayV2, columns = ['featureListPlusOne', 'target'])\n",
    "    \n",
    "\n"
   ]
  },
  {
   "cell_type": "code",
   "execution_count": 4,
   "id": "d1aeaf5c",
   "metadata": {},
   "outputs": [],
   "source": [
    "#MAIN FUNCTION\n",
    "\n",
    "#This function is the \"outermost\" function, that calculates the thetas, given dataset, eta and number of steps.\n",
    "def computationV2(featureListTargetDf, eta, numberOfSteps):\n",
    "    #theta_iter = 0\n",
    "    featureListPlusOne = featureListTargetDf['featureListPlusOne']\n",
    "    numberOfFeaturesPlusOne = len(featureListPlusOne[0])\n",
    "    thetaValues = [0]*numberOfFeaturesPlusOne\n",
    "    step = 0\n",
    "    while step < numberOfSteps:\n",
    "        theta_iter = 0\n",
    "        while theta_iter < numberOfFeaturesPlusOne:\n",
    "            thetaValues[theta_iter] = thetaValues[theta_iter] - eta*calcDiff(featureListTargetDf, thetaValues, theta_iter)\n",
    "            theta_iter = theta_iter+1\n",
    "        step = step+1\n",
    "    return(thetaValues)\n",
    "\n",
    "#HELPER FUNCTIONS\n",
    "\n",
    "#This function calculates a partial derivative for a particular theta.\n",
    "def calcDiff(featureListTargetDf, thetaValues, theta_iter):\n",
    "    featureListPlusOne = featureListTargetDf['featureListPlusOne']\n",
    "    target = featureListTargetDf['target']\n",
    "    numberOfFeaturesPlusOne = len(featureListPlusOne[0])\n",
    "    numberOfDataPoints = len(featureListTargetDf)\n",
    "    data_point_iterator = 0\n",
    "    running_total = 0\n",
    "    while data_point_iterator < numberOfDataPoints:\n",
    "        featureListPlusOneValues = featureListPlusOne[data_point_iterator]\n",
    "        targetValue = target[data_point_iterator]\n",
    "        featureListPlusOneValue = featureListPlusOneValues[theta_iter]\n",
    "        discrepancy = (estimatedTargetValue(featureListPlusOneValues, thetaValues) - targetValue)*featureListPlusOneValue\n",
    "        running_total = running_total + discrepancy\n",
    "        data_point_iterator = data_point_iterator + 1\n",
    "    return (2/numberOfDataPoints)*running_total\n",
    "\n",
    "#This function calculates the estimated target value, given the feature values for a particular data point.\n",
    "def estimatedTargetValue(featureListPlusOneValues, thetaValues):\n",
    "    running_total = 0\n",
    "    feature_iter = 0\n",
    "    while feature_iter < len(featureListPlusOneValues):\n",
    "        running_total = running_total + thetaValues[feature_iter]*featureListPlusOneValues[feature_iter]\n",
    "        feature_iter = feature_iter+1\n",
    "    return running_total\n",
    "\n",
    "#This function calculates goodnessOfFit (used later)\n",
    "def goodnessOfFit(featureListTargetDf, thetaValues):\n",
    "    featureListPlusOne = featureListTargetDf['featureListPlusOne']\n",
    "    target = featureListTargetDf['target']\n",
    "    numberOfFeaturesPlusOne = len(featureListPlusOne[0])\n",
    "    numberOfDataPoints = len(featureListTargetDf)\n",
    "    sumOfSquares = 0\n",
    "    data_point_iterator = 0\n",
    "    while data_point_iterator < numberOfDataPoints:\n",
    "        featureListPlusOneValues = featureListPlusOne[data_point_iterator]\n",
    "        targetValue = target[data_point_iterator]\n",
    "        discrepancy = (estimatedTargetValue(featureListPlusOneValues, thetaValues) - targetValue)\n",
    "        sumOfSquares = sumOfSquares + discrepancy**2\n",
    "        data_point_iterator = data_point_iterator+1\n",
    "    gOF = 1 - sumOfSquares/((numberOfDataPoints-1)*(target.var()))\n",
    "    return gOF\n",
    "\n",
    "\n",
    "    \n"
   ]
  },
  {
   "cell_type": "markdown",
   "id": "805a905a",
   "metadata": {},
   "source": [
    "Interesting Combinations:\n",
    "\n",
    "ETA 0.00001, steps up to 1000, STEP_GAP 100\n",
    "ETA 0.00001, steps up to 2000, STEP_GAP 100\n",
    "ETA 0.00003, steps up to 700, STEP_GAP 50\n",
    "\n",
    "ETA too small - convergence is very slow\n",
    "ETA too large - tremendous divergence\n",
    "\n",
    "Algorithm seems VERY sensitive to ETA.\n",
    "\n",
    "\n"
   ]
  },
  {
   "cell_type": "code",
   "execution_count": 5,
   "id": "a9e59c21",
   "metadata": {},
   "outputs": [],
   "source": [
    "#NEW MAIN FUNCTION\n",
    "\n",
    "#This code takes a data set, eta, step_gap and number_of_step_gap_iterations.\n",
    "#It calculates step_gap iterations of theta calculation and records the theta and goodness of fit values. It then repeats this number_of_step_gap_iterations\n",
    "#times. The output is a data_frame which contains final values of thetas and goodness of fit after (step_gap)*(number_of_step_gap_iterations) iterations.\n",
    "#It also contains the intermediate records.\n",
    "\n",
    "def computationV2Multipoint(featureListTargetDf, eta, step_gap, iterations):\n",
    "    featureListPlusOne = featureListTargetDf['featureListPlusOne']\n",
    "    numberOfFeaturesPlusOne = len(featureListPlusOne[0])\n",
    "    thetaValues = [0]*numberOfFeaturesPlusOne\n",
    "    thetasList = []\n",
    "    iteration = 0\n",
    "    step = 0\n",
    "    while iteration < iterations:\n",
    "        iteration_step_count = 0\n",
    "        while iteration_step_count < step_gap:\n",
    "            theta_iter = 0\n",
    "            while theta_iter < numberOfFeaturesPlusOne:\n",
    "                thetaValues[theta_iter] = thetaValues[theta_iter] - eta*calcDiff(featureListTargetDf, thetaValues, theta_iter)\n",
    "                theta_iter = theta_iter+1\n",
    "            step = step+1\n",
    "            iteration_step_count = iteration_step_count+1\n",
    "        result = thetaValues.copy()\n",
    "        GOF = goodnessOfFit(adv_dataframe,result)\n",
    "        result.append(eta)\n",
    "        result.append(step)\n",
    "        result.append(GOF)\n",
    "        #print(\"theta values = \\n\")\n",
    "        #print(thetaValues)\n",
    "        thetasList.append(result)\n",
    "        iteration = iteration+1\n",
    "    thetasdf = pd.DataFrame(data=thetasList,columns=['theta0', 'theta1', 'theta2', 'theta3', 'ETA', 'Steps', 'Goodness of Fit'])\n",
    "    print(thetasdf)\n",
    "    return(thetasdf)\n"
   ]
  },
  {
   "cell_type": "code",
   "execution_count": 6,
   "id": "6d8ae6f7",
   "metadata": {},
   "outputs": [
    {
     "name": "stdout",
     "output_type": "stream",
     "text": [
      "      theta0    theta1    theta2    theta3      ETA  Steps  Goodness of Fit\n",
      "0   0.000731  0.078807  0.018769  0.017330  0.00001     10         0.333117\n",
      "1   0.001012  0.075645  0.031760  0.026913  0.00001     20         0.431214\n",
      "2   0.001269  0.072926  0.043459  0.034695  0.00001     30         0.505488\n",
      "3   0.001506  0.070594  0.054033  0.040960  0.00001     40         0.562289\n",
      "4   0.001725  0.068592  0.063630  0.045949  0.00001     50         0.606228\n",
      "..       ...       ...       ...       ...      ...    ...              ...\n",
      "95  0.011078  0.053898  0.217977  0.019026  0.00001    960         0.850847\n",
      "96  0.011165  0.053893  0.218131  0.018940  0.00001    970         0.850861\n",
      "97  0.011251  0.053887  0.218279  0.018857  0.00001    980         0.850874\n",
      "98  0.011338  0.053882  0.218422  0.018777  0.00001    990         0.850887\n",
      "99  0.011424  0.053878  0.218559  0.018701  0.00001   1000         0.850899\n",
      "\n",
      "[100 rows x 7 columns]\n"
     ]
    }
   ],
   "source": [
    "#Running the new function\n",
    "\n",
    "thetasdf = computationV2Multipoint(adv_dataframe, 0.00001, 10, 100)"
   ]
  },
  {
   "cell_type": "code",
   "execution_count": 7,
   "id": "2683e3f7",
   "metadata": {},
   "outputs": [
    {
     "data": {
      "text/plain": [
       "<Axes: xlabel='Steps'>"
      ]
     },
     "execution_count": 7,
     "metadata": {},
     "output_type": "execute_result"
    },
    {
     "data": {
      "image/png": "[encoded data removed]",
      "text/plain": [
       "<Figure size 640x480 with 1 Axes>"
      ]
     },
     "metadata": {},
     "output_type": "display_data"
    }
   ],
   "source": [
    "#Plotting the graphs\n",
    "\n",
    "thetasdf.plot(x=\"Steps\", y=[\"theta0\" ,\"theta1\" ,\"theta2\" ,\"theta3\", \"Goodness of Fit\" ])\n"
   ]
  }
 ],
 "metadata": {
  "kernelspec": {
   "display_name": "Python 3 (ipykernel)",
   "language": "python",
   "name": "python3"
  },
  "language_info": {
   "codemirror_mode": {
    "name": "ipython",
    "version": 3
   },
   "file_extension": ".py",
   "mimetype": "text/x-python",
   "name": "python",
   "nbconvert_exporter": "python",
   "pygments_lexer": "ipython3",
   "version": "3.11.4"
  }
 },
 "nbformat": 4,
 "nbformat_minor": 5
}
