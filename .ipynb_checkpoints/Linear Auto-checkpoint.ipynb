{
 "cells": [
  {
   "cell_type": "markdown",
   "id": "9064f86f",
   "metadata": {},
   "source": [
    "Import library and data"
   ]
  },
  {
   "cell_type": "code",
   "execution_count": 1,
   "id": "b555b09f",
   "metadata": {},
   "outputs": [],
   "source": [
    "import numpy as np\n",
    "import pandas as pd\n",
    "import matplotlib.pyplot as plt\n",
    "from sklearn.preprocessing import MinMaxScaler"
   ]
  },
  {
   "cell_type": "code",
   "execution_count": 2,
   "id": "6e7852ef",
   "metadata": {},
   "outputs": [],
   "source": [
    "auto_raw = pd.read_csv(r'Auto.csv')"
   ]
  },
  {
   "cell_type": "code",
   "execution_count": 3,
   "id": "82339324",
   "metadata": {},
   "outputs": [
    {
     "name": "stdout",
     "output_type": "stream",
     "text": [
      "      mpg  cylinders  displacement horsepower  weight  acceleration  year  \\\n",
      "0    18.0          8         307.0        130    3504          12.0    70   \n",
      "1    15.0          8         350.0        165    3693          11.5    70   \n",
      "2    18.0          8         318.0        150    3436          11.0    70   \n",
      "3    16.0          8         304.0        150    3433          12.0    70   \n",
      "4    17.0          8         302.0        140    3449          10.5    70   \n",
      "..    ...        ...           ...        ...     ...           ...   ...   \n",
      "392  27.0          4         140.0         86    2790          15.6    82   \n",
      "393  44.0          4          97.0         52    2130          24.6    82   \n",
      "394  32.0          4         135.0         84    2295          11.6    82   \n",
      "395  28.0          4         120.0         79    2625          18.6    82   \n",
      "396  31.0          4         119.0         82    2720          19.4    82   \n",
      "\n",
      "     origin                       name  \n",
      "0         1  chevrolet chevelle malibu  \n",
      "1         1          buick skylark 320  \n",
      "2         1         plymouth satellite  \n",
      "3         1              amc rebel sst  \n",
      "4         1                ford torino  \n",
      "..      ...                        ...  \n",
      "392       1            ford mustang gl  \n",
      "393       2                  vw pickup  \n",
      "394       1              dodge rampage  \n",
      "395       1                ford ranger  \n",
      "396       1                 chevy s-10  \n",
      "\n",
      "[397 rows x 9 columns]\n"
     ]
    }
   ],
   "source": [
    "print(auto_raw)"
   ]
  },
  {
   "cell_type": "markdown",
   "id": "2aa3aa90",
   "metadata": {},
   "source": [
    "Data Processing Pipeline"
   ]
  },
  {
   "cell_type": "code",
   "execution_count": 4,
   "id": "5a51b247",
   "metadata": {},
   "outputs": [],
   "source": [
    "auto_processed1 = auto_raw.drop(['name'],axis = 1)\n",
    "\n",
    "#print(auto_processed1)"
   ]
  },
  {
   "cell_type": "code",
   "execution_count": 5,
   "id": "bd3320b5",
   "metadata": {},
   "outputs": [],
   "source": [
    "def to_float (x):\n",
    "    try:\n",
    "        return (float(x))\n",
    "    except:\n",
    "        return x\n",
    "\n",
    "auto_raw_tofloat = auto_processed1.applymap(to_float)\n",
    "\n",
    "#print(auto_raw_tofloat)"
   ]
  },
  {
   "cell_type": "code",
   "execution_count": 6,
   "id": "5bfce3a8",
   "metadata": {},
   "outputs": [],
   "source": [
    "for x in auto_raw_tofloat.index: \n",
    "    if type(auto_raw_tofloat.loc[x, \"horsepower\"]) == 'str':\n",
    "        auto_raw_tofloat.drop(x, inplace = True)\n",
    "    elif auto_raw_tofloat.loc[x, \"horsepower\"] == '?':\n",
    "        auto_raw_tofloat.drop(x, inplace = True)\n",
    "\n",
    "#print(auto_raw_tofloat)"
   ]
  },
  {
   "cell_type": "code",
   "execution_count": 7,
   "id": "5c3fea0f",
   "metadata": {},
   "outputs": [
    {
     "name": "stdout",
     "output_type": "stream",
     "text": [
      "      mpg horsepower\n",
      "0    18.0      130.0\n",
      "1    15.0      165.0\n",
      "2    18.0      150.0\n",
      "3    16.0      150.0\n",
      "4    17.0      140.0\n",
      "..    ...        ...\n",
      "392  27.0       86.0\n",
      "393  44.0       52.0\n",
      "394  32.0       84.0\n",
      "395  28.0       79.0\n",
      "396  31.0       82.0\n",
      "\n",
      "[392 rows x 2 columns]\n"
     ]
    }
   ],
   "source": [
    "#linear\n",
    "\n",
    "linear_auto = auto_raw_tofloat.copy()\n",
    "\n",
    "columns_to_drop = ['cylinders', 'displacement', 'weight', 'acceleration', 'year', 'origin']\n",
    "linear_auto.drop(columns_to_drop, axis=1, inplace=True)\n",
    "\n",
    "print(linear_auto)"
   ]
  },
  {
   "cell_type": "code",
   "execution_count": 8,
   "id": "e26b0470",
   "metadata": {},
   "outputs": [
    {
     "name": "stdout",
     "output_type": "stream",
     "text": [
      "      mpg horsepower  mpg_normalized  hp_normalized\n",
      "0    18.0      130.0        0.239362       0.456522\n",
      "1    15.0      165.0        0.159574       0.646739\n",
      "2    18.0      150.0        0.239362       0.565217\n",
      "3    16.0      150.0        0.186170       0.565217\n",
      "4    17.0      140.0        0.212766       0.510870\n",
      "..    ...        ...             ...            ...\n",
      "392  27.0       86.0        0.478723       0.217391\n",
      "393  44.0       52.0        0.930851       0.032609\n",
      "394  32.0       84.0        0.611702       0.206522\n",
      "395  28.0       79.0        0.505319       0.179348\n",
      "396  31.0       82.0        0.585106       0.195652\n",
      "\n",
      "[392 rows x 4 columns]\n",
      "     mpg_normalized  hp_normalized\n",
      "0          0.239362       0.456522\n",
      "1          0.159574       0.646739\n",
      "2          0.239362       0.565217\n",
      "3          0.186170       0.565217\n",
      "4          0.212766       0.510870\n",
      "..              ...            ...\n",
      "392        0.478723       0.217391\n",
      "393        0.930851       0.032609\n",
      "394        0.611702       0.206522\n",
      "395        0.505319       0.179348\n",
      "396        0.585106       0.195652\n",
      "\n",
      "[392 rows x 2 columns]\n"
     ]
    }
   ],
   "source": [
    "x_feature = linear_auto[['horsepower']]\n",
    "mpg_target = linear_auto[['mpg']]\n",
    "# Initialize the MinMaxScaler\n",
    "scaler = MinMaxScaler()\n",
    "\n",
    "# Fit and transform the feature column\n",
    "x_feature_scaled = scaler.fit_transform(x_feature)\n",
    "mpg_target_scaled = scaler.fit_transform(mpg_target)\n",
    "\n",
    "linear_auto['mpg_normalized'] = mpg_target_scaled\n",
    "linear_auto['hp_normalized'] = x_feature_scaled\n",
    "\n",
    "\n",
    "print(linear_auto)\n",
    "\n",
    "linear_auto.drop(['mpg','horsepower'], axis = 1, inplace= True)\n",
    "\n",
    "print(linear_auto)"
   ]
  },
  {
   "cell_type": "code",
   "execution_count": 9,
   "id": "1cc5f301",
   "metadata": {},
   "outputs": [],
   "source": [
    "linear_auto_np = linear_auto.to_numpy()"
   ]
  },
  {
   "cell_type": "code",
   "execution_count": 12,
   "id": "3d5150d5",
   "metadata": {},
   "outputs": [],
   "source": [
    "import math\n",
    "\n",
    "def split_data(array, percentage):\n",
    "    size = len(array)\n",
    "    rows_to_select = int(math.floor(size*percentage))\n",
    "    np.random.shuffle(array)\n",
    "    test_rows = array[:rows_to_select]\n",
    "    tr = rows_to_select - size\n",
    "    train_rows = array[tr:]\n",
    "    return train_rows, test_rows\n",
    "\n",
    "linear_auto_training, linear_auto_testing = split_data(linear_auto_np, 0.25)"
   ]
  },
  {
   "cell_type": "code",
   "execution_count": 13,
   "id": "19130ad2",
   "metadata": {},
   "outputs": [
    {
     "name": "stdout",
     "output_type": "stream",
     "text": [
      "           featureListPlusOne    target\n",
      "0    [1, 0.15217391304347827]  0.601064\n",
      "1     [1, 0.2282608695652174]  0.428191\n",
      "2    [1, 0.34782608695652173]  0.425532\n",
      "3     [1, 0.8804347826086956]  0.053191\n",
      "4    [1, 0.21739130434782605]  0.345745\n",
      "..                        ...       ...\n",
      "289                [1, 0.125]  0.452128\n",
      "290  [1, 0.34782608695652173]  0.332447\n",
      "291   [1, 0.5380434782608695]  0.226064\n",
      "292   [1, 0.1576086956521739]  0.398936\n",
      "293   [1, 0.4565217391304348]  0.212766\n",
      "\n",
      "[294 rows x 2 columns]\n"
     ]
    }
   ],
   "source": [
    "#adjusting to new dataframe linear_auto_1_np\n",
    "\n",
    "numberOfDataPoints = len(linear_auto_training)\n",
    "linear_auto_np_V2 = []\n",
    "i=0\n",
    "while i < numberOfDataPoints:\n",
    "    Features = [None]*2\n",
    "    Features[0] = 1\n",
    "    j=1\n",
    "    while j < 2:\n",
    "        Features[j] = linear_auto_np[i][j]\n",
    "        j = j+1\n",
    "    Target = linear_auto_np[i][0]\n",
    "    newLine = [None]*2\n",
    "    linear_auto_np_V2.append(newLine)\n",
    "    linear_auto_np_V2[i][0] = Features\n",
    "    linear_auto_np_V2[i][1] = Target\n",
    "    i = i+1\n",
    "\n",
    "#print(linear_auto_np_V2)\n",
    "    \n",
    "linear_auto_dataframe = pd.DataFrame(data=linear_auto_np_V2, columns = ['featureListPlusOne', 'target'])\n",
    "    \n",
    "print(linear_auto_dataframe)\n"
   ]
  },
  {
   "cell_type": "markdown",
   "id": "03fd3599",
   "metadata": {},
   "source": [
    "Creating Functions"
   ]
  },
  {
   "cell_type": "code",
   "execution_count": 14,
   "id": "e45b2078",
   "metadata": {},
   "outputs": [],
   "source": [
    "def computationV2(featureListTargetDf, eta, numberOfSteps):\n",
    "    #theta_iter = 0\n",
    "    featureListPlusOne = featureListTargetDf['featureListPlusOne']\n",
    "    numberOfFeaturesPlusOne = len(featureListPlusOne[0])\n",
    "    thetaValues = [0]*numberOfFeaturesPlusOne\n",
    "#    while theta_iter < numberOfFeaturesPlusOne:\n",
    "#        thetaValues[theta_iter] = 0\n",
    "#        theta_iter = theta_iter+1\n",
    "    step = 0\n",
    "    while step < numberOfSteps:\n",
    "        theta_iter = 0\n",
    "        while theta_iter < numberOfFeaturesPlusOne:\n",
    "            thetaValues[theta_iter] = thetaValues[theta_iter] - eta*calcDiff(featureListTargetDf, thetaValues, theta_iter)\n",
    "            theta_iter = theta_iter+1\n",
    "        step = step+1\n",
    "    return(thetaValues)\n",
    "\n",
    "def calcDiff(featureListTargetDf, thetaValues, theta_iter):\n",
    "    featureListPlusOne = featureListTargetDf['featureListPlusOne']\n",
    "    target = featureListTargetDf['target']\n",
    "    numberOfFeaturesPlusOne = len(featureListPlusOne[0])\n",
    "    numberOfDataPoints = len(featureListTargetDf)\n",
    "    data_point_iterator = 0\n",
    "    running_total = 0\n",
    "    while data_point_iterator < numberOfDataPoints:\n",
    "        featureListPlusOneValues = featureListPlusOne[data_point_iterator]\n",
    "        targetValue = target[data_point_iterator]\n",
    "        featureListPlusOneValue = featureListPlusOneValues[theta_iter]\n",
    "        discrepancy = (estimatedTargetValue(featureListPlusOneValues, thetaValues) - targetValue)*featureListPlusOneValue\n",
    "        running_total = running_total + discrepancy\n",
    "        data_point_iterator = data_point_iterator + 1\n",
    "    return (2/numberOfDataPoints)*running_total\n",
    "                \n",
    "def estimatedTargetValue(featureListPlusOneValues, thetaValues):\n",
    "    running_total = 0\n",
    "    feature_iter = 0\n",
    "    while feature_iter < len(featureListPlusOneValues):\n",
    "        running_total = running_total + thetaValues[feature_iter]*featureListPlusOneValues[feature_iter]\n",
    "        feature_iter = feature_iter+1\n",
    "    return running_total\n",
    "\n",
    "def goodnessOfFit(featureListTargetDf, thetaValues):\n",
    "    featureListPlusOne = featureListTargetDf['featureListPlusOne']\n",
    "    target = featureListTargetDf['target']\n",
    "    numberOfFeaturesPlusOne = len(featureListPlusOne[0])\n",
    "    numberOfDataPoints = len(featureListTargetDf)\n",
    "    sumOfSquares = 0\n",
    "    data_point_iterator = 0\n",
    "    while data_point_iterator < numberOfDataPoints:\n",
    "        featureListPlusOneValues = featureListPlusOne[data_point_iterator]\n",
    "        targetValue = target[data_point_iterator]\n",
    "        discrepancy = (estimatedTargetValue(featureListPlusOneValues, thetaValues) - targetValue)\n",
    "        sumOfSquares = sumOfSquares + discrepancy**2\n",
    "        data_point_iterator = data_point_iterator+1\n",
    "    gOF = 1 - sumOfSquares/((numberOfDataPoints-1)*(target.var()))\n",
    "    return gOF"
   ]
  },
  {
   "cell_type": "code",
   "execution_count": 15,
   "id": "3f5b8be4",
   "metadata": {},
   "outputs": [
    {
     "name": "stdout",
     "output_type": "stream",
     "text": [
      "[[0.488982418114479, -0.36909260998690835, 0.1, 100, 0.44357662457041314]]\n",
      "[[0.488982418114479, -0.36909260998690835, 0.1, 100, 0.44357662457041314], [0.5596564800068143, -0.5880963314039478, 0.1, 200, 0.5794951521282048]]\n",
      "[[0.488982418114479, -0.36909260998690835, 0.1, 100, 0.44357662457041314], [0.5596564800068143, -0.5880963314039478, 0.1, 200, 0.5794951521282048], [0.5935073215494343, -0.6929928107271148, 0.1, 300, 0.6106766874956355]]\n",
      "[[0.488982418114479, -0.36909260998690835, 0.1, 100, 0.44357662457041314], [0.5596564800068143, -0.5880963314039478, 0.1, 200, 0.5794951521282048], [0.5935073215494343, -0.6929928107271148, 0.1, 300, 0.6106766874956355], [0.6097209003732713, -0.7432352052539346, 0.1, 400, 0.6178301504218762]]\n",
      "[[0.488982418114479, -0.36909260998690835, 0.1, 100, 0.44357662457041314], [0.5596564800068143, -0.5880963314039478, 0.1, 200, 0.5794951521282048], [0.5935073215494343, -0.6929928107271148, 0.1, 300, 0.6106766874956355], [0.6097209003732713, -0.7432352052539346, 0.1, 400, 0.6178301504218762], [0.6174867379801682, -0.7672998661851342, 0.1, 500, 0.6194712508755296]]\n",
      "[[0.488982418114479, -0.36909260998690835, 0.1, 100, 0.44357662457041314], [0.5596564800068143, -0.5880963314039478, 0.1, 200, 0.5794951521282048], [0.5935073215494343, -0.6929928107271148, 0.1, 300, 0.6106766874956355], [0.6097209003732713, -0.7432352052539346, 0.1, 400, 0.6178301504218762], [0.6174867379801682, -0.7672998661851342, 0.1, 500, 0.6194712508755296], [0.6212063506820862, -0.7788261461562151, 0.1, 600, 0.6198477413566783]]\n",
      "[[0.488982418114479, -0.36909260998690835, 0.1, 100, 0.44357662457041314], [0.5596564800068143, -0.5880963314039478, 0.1, 200, 0.5794951521282048], [0.5935073215494343, -0.6929928107271148, 0.1, 300, 0.6106766874956355], [0.6097209003732713, -0.7432352052539346, 0.1, 400, 0.6178301504218762], [0.6174867379801682, -0.7672998661851342, 0.1, 500, 0.6194712508755296], [0.6212063506820862, -0.7788261461562151, 0.1, 600, 0.6198477413566783], [0.6229879381105926, -0.7843469025197298, 0.1, 700, 0.6199341133286563]]\n",
      "[[0.488982418114479, -0.36909260998690835, 0.1, 100, 0.44357662457041314], [0.5596564800068143, -0.5880963314039478, 0.1, 200, 0.5794951521282048], [0.5935073215494343, -0.6929928107271148, 0.1, 300, 0.6106766874956355], [0.6097209003732713, -0.7432352052539346, 0.1, 400, 0.6178301504218762], [0.6174867379801682, -0.7672998661851342, 0.1, 500, 0.6194712508755296], [0.6212063506820862, -0.7788261461562151, 0.1, 600, 0.6198477413566783], [0.6229879381105926, -0.7843469025197298, 0.1, 700, 0.6199341133286563], [0.6238412672122421, -0.7869911859226795, 0.1, 800, 0.6199539282188511]]\n",
      "[[0.488982418114479, -0.36909260998690835, 0.1, 100, 0.44357662457041314], [0.5596564800068143, -0.5880963314039478, 0.1, 200, 0.5794951521282048], [0.5935073215494343, -0.6929928107271148, 0.1, 300, 0.6106766874956355], [0.6097209003732713, -0.7432352052539346, 0.1, 400, 0.6178301504218762], [0.6174867379801682, -0.7672998661851342, 0.1, 500, 0.6194712508755296], [0.6212063506820862, -0.7788261461562151, 0.1, 600, 0.6198477413566783], [0.6229879381105926, -0.7843469025197298, 0.1, 700, 0.6199341133286563], [0.6238412672122421, -0.7869911859226795, 0.1, 800, 0.6199539282188511], [0.6242499872919143, -0.7882577215664776, 0.1, 900, 0.619958474020741]]\n",
      "[[0.488982418114479, -0.36909260998690835, 0.1, 100, 0.44357662457041314], [0.5596564800068143, -0.5880963314039478, 0.1, 200, 0.5794951521282048], [0.5935073215494343, -0.6929928107271148, 0.1, 300, 0.6106766874956355], [0.6097209003732713, -0.7432352052539346, 0.1, 400, 0.6178301504218762], [0.6174867379801682, -0.7672998661851342, 0.1, 500, 0.6194712508755296], [0.6212063506820862, -0.7788261461562151, 0.1, 600, 0.6198477413566783], [0.6229879381105926, -0.7843469025197298, 0.1, 700, 0.6199341133286563], [0.6238412672122421, -0.7869911859226795, 0.1, 800, 0.6199539282188511], [0.6242499872919143, -0.7882577215664776, 0.1, 900, 0.619958474020741], [0.6244457524465354, -0.7888643556871703, 0.1, 1000, 0.6199595168887364]]\n",
      "[[0.488982418114479, -0.36909260998690835, 0.1, 100, 0.44357662457041314], [0.5596564800068143, -0.5880963314039478, 0.1, 200, 0.5794951521282048], [0.5935073215494343, -0.6929928107271148, 0.1, 300, 0.6106766874956355], [0.6097209003732713, -0.7432352052539346, 0.1, 400, 0.6178301504218762], [0.6174867379801682, -0.7672998661851342, 0.1, 500, 0.6194712508755296], [0.6212063506820862, -0.7788261461562151, 0.1, 600, 0.6198477413566783], [0.6229879381105926, -0.7843469025197298, 0.1, 700, 0.6199341133286563], [0.6238412672122421, -0.7869911859226795, 0.1, 800, 0.6199539282188511], [0.6242499872919143, -0.7882577215664776, 0.1, 900, 0.619958474020741], [0.6244457524465354, -0.7888643556871703, 0.1, 1000, 0.6199595168887364], [0.624539518321201, -0.7891549159711947, 0.1, 1100, 0.6199597561366581]]\n",
      "[[0.488982418114479, -0.36909260998690835, 0.1, 100, 0.44357662457041314], [0.5596564800068143, -0.5880963314039478, 0.1, 200, 0.5794951521282048], [0.5935073215494343, -0.6929928107271148, 0.1, 300, 0.6106766874956355], [0.6097209003732713, -0.7432352052539346, 0.1, 400, 0.6178301504218762], [0.6174867379801682, -0.7672998661851342, 0.1, 500, 0.6194712508755296], [0.6212063506820862, -0.7788261461562151, 0.1, 600, 0.6198477413566783], [0.6229879381105926, -0.7843469025197298, 0.1, 700, 0.6199341133286563], [0.6238412672122421, -0.7869911859226795, 0.1, 800, 0.6199539282188511], [0.6242499872919143, -0.7882577215664776, 0.1, 900, 0.619958474020741], [0.6244457524465354, -0.7888643556871703, 0.1, 1000, 0.6199595168887364], [0.624539518321201, -0.7891549159711947, 0.1, 1100, 0.6199597561366581], [0.6245844294764514, -0.7892940859845066, 0.1, 1200, 0.6199598110233442]]\n",
      "[[0.488982418114479, -0.36909260998690835, 0.1, 100, 0.44357662457041314], [0.5596564800068143, -0.5880963314039478, 0.1, 200, 0.5794951521282048], [0.5935073215494343, -0.6929928107271148, 0.1, 300, 0.6106766874956355], [0.6097209003732713, -0.7432352052539346, 0.1, 400, 0.6178301504218762], [0.6174867379801682, -0.7672998661851342, 0.1, 500, 0.6194712508755296], [0.6212063506820862, -0.7788261461562151, 0.1, 600, 0.6198477413566783], [0.6229879381105926, -0.7843469025197298, 0.1, 700, 0.6199341133286563], [0.6238412672122421, -0.7869911859226795, 0.1, 800, 0.6199539282188511], [0.6242499872919143, -0.7882577215664776, 0.1, 900, 0.619958474020741], [0.6244457524465354, -0.7888643556871703, 0.1, 1000, 0.6199595168887364], [0.624539518321201, -0.7891549159711947, 0.1, 1100, 0.6199597561366581], [0.6245844294764514, -0.7892940859845066, 0.1, 1200, 0.6199598110233442], [0.6246059406272098, -0.789360744415373, 0.1, 1300, 0.619959823615087]]\n",
      "[[0.488982418114479, -0.36909260998690835, 0.1, 100, 0.44357662457041314], [0.5596564800068143, -0.5880963314039478, 0.1, 200, 0.5794951521282048], [0.5935073215494343, -0.6929928107271148, 0.1, 300, 0.6106766874956355], [0.6097209003732713, -0.7432352052539346, 0.1, 400, 0.6178301504218762], [0.6174867379801682, -0.7672998661851342, 0.1, 500, 0.6194712508755296], [0.6212063506820862, -0.7788261461562151, 0.1, 600, 0.6198477413566783], [0.6229879381105926, -0.7843469025197298, 0.1, 700, 0.6199341133286563], [0.6238412672122421, -0.7869911859226795, 0.1, 800, 0.6199539282188511], [0.6242499872919143, -0.7882577215664776, 0.1, 900, 0.619958474020741], [0.6244457524465354, -0.7888643556871703, 0.1, 1000, 0.6199595168887364], [0.624539518321201, -0.7891549159711947, 0.1, 1100, 0.6199597561366581], [0.6245844294764514, -0.7892940859845066, 0.1, 1200, 0.6199598110233442], [0.6246059406272098, -0.789360744415373, 0.1, 1300, 0.619959823615087], [0.6246162438493019, -0.7893926718852344, 0.1, 1400, 0.6199598265038022]]\n",
      "[[0.488982418114479, -0.36909260998690835, 0.1, 100, 0.44357662457041314], [0.5596564800068143, -0.5880963314039478, 0.1, 200, 0.5794951521282048], [0.5935073215494343, -0.6929928107271148, 0.1, 300, 0.6106766874956355], [0.6097209003732713, -0.7432352052539346, 0.1, 400, 0.6178301504218762], [0.6174867379801682, -0.7672998661851342, 0.1, 500, 0.6194712508755296], [0.6212063506820862, -0.7788261461562151, 0.1, 600, 0.6198477413566783], [0.6229879381105926, -0.7843469025197298, 0.1, 700, 0.6199341133286563], [0.6238412672122421, -0.7869911859226795, 0.1, 800, 0.6199539282188511], [0.6242499872919143, -0.7882577215664776, 0.1, 900, 0.619958474020741], [0.6244457524465354, -0.7888643556871703, 0.1, 1000, 0.6199595168887364], [0.624539518321201, -0.7891549159711947, 0.1, 1100, 0.6199597561366581], [0.6245844294764514, -0.7892940859845066, 0.1, 1200, 0.6199598110233442], [0.6246059406272098, -0.789360744415373, 0.1, 1300, 0.619959823615087], [0.6246162438493019, -0.7893926718852344, 0.1, 1400, 0.6199598265038022], [0.6246211787961425, -0.7894079642243799, 0.1, 1500, 0.6199598271665123]]\n"
     ]
    },
    {
     "name": "stdout",
     "output_type": "stream",
     "text": [
      "[[0.488982418114479, -0.36909260998690835, 0.1, 100, 0.44357662457041314], [0.5596564800068143, -0.5880963314039478, 0.1, 200, 0.5794951521282048], [0.5935073215494343, -0.6929928107271148, 0.1, 300, 0.6106766874956355], [0.6097209003732713, -0.7432352052539346, 0.1, 400, 0.6178301504218762], [0.6174867379801682, -0.7672998661851342, 0.1, 500, 0.6194712508755296], [0.6212063506820862, -0.7788261461562151, 0.1, 600, 0.6198477413566783], [0.6229879381105926, -0.7843469025197298, 0.1, 700, 0.6199341133286563], [0.6238412672122421, -0.7869911859226795, 0.1, 800, 0.6199539282188511], [0.6242499872919143, -0.7882577215664776, 0.1, 900, 0.619958474020741], [0.6244457524465354, -0.7888643556871703, 0.1, 1000, 0.6199595168887364], [0.624539518321201, -0.7891549159711947, 0.1, 1100, 0.6199597561366581], [0.6245844294764514, -0.7892940859845066, 0.1, 1200, 0.6199598110233442], [0.6246059406272098, -0.789360744415373, 0.1, 1300, 0.619959823615087], [0.6246162438493019, -0.7893926718852344, 0.1, 1400, 0.6199598265038022], [0.6246211787961425, -0.7894079642243799, 0.1, 1500, 0.6199598271665123], [0.6246235424936445, -0.7894152888146959, 0.1, 1600, 0.6199598273185465]]\n",
      "[[0.488982418114479, -0.36909260998690835, 0.1, 100, 0.44357662457041314], [0.5596564800068143, -0.5880963314039478, 0.1, 200, 0.5794951521282048], [0.5935073215494343, -0.6929928107271148, 0.1, 300, 0.6106766874956355], [0.6097209003732713, -0.7432352052539346, 0.1, 400, 0.6178301504218762], [0.6174867379801682, -0.7672998661851342, 0.1, 500, 0.6194712508755296], [0.6212063506820862, -0.7788261461562151, 0.1, 600, 0.6198477413566783], [0.6229879381105926, -0.7843469025197298, 0.1, 700, 0.6199341133286563], [0.6238412672122421, -0.7869911859226795, 0.1, 800, 0.6199539282188511], [0.6242499872919143, -0.7882577215664776, 0.1, 900, 0.619958474020741], [0.6244457524465354, -0.7888643556871703, 0.1, 1000, 0.6199595168887364], [0.624539518321201, -0.7891549159711947, 0.1, 1100, 0.6199597561366581], [0.6245844294764514, -0.7892940859845066, 0.1, 1200, 0.6199598110233442], [0.6246059406272098, -0.789360744415373, 0.1, 1300, 0.619959823615087], [0.6246162438493019, -0.7893926718852344, 0.1, 1400, 0.6199598265038022], [0.6246211787961425, -0.7894079642243799, 0.1, 1500, 0.6199598271665123], [0.6246235424936445, -0.7894152888146959, 0.1, 1600, 0.6199598273185465], [0.6246246746367176, -0.7894187970826454, 0.1, 1700, 0.6199598273534253]]\n",
      "[[0.488982418114479, -0.36909260998690835, 0.1, 100, 0.44357662457041314], [0.5596564800068143, -0.5880963314039478, 0.1, 200, 0.5794951521282048], [0.5935073215494343, -0.6929928107271148, 0.1, 300, 0.6106766874956355], [0.6097209003732713, -0.7432352052539346, 0.1, 400, 0.6178301504218762], [0.6174867379801682, -0.7672998661851342, 0.1, 500, 0.6194712508755296], [0.6212063506820862, -0.7788261461562151, 0.1, 600, 0.6198477413566783], [0.6229879381105926, -0.7843469025197298, 0.1, 700, 0.6199341133286563], [0.6238412672122421, -0.7869911859226795, 0.1, 800, 0.6199539282188511], [0.6242499872919143, -0.7882577215664776, 0.1, 900, 0.619958474020741], [0.6244457524465354, -0.7888643556871703, 0.1, 1000, 0.6199595168887364], [0.624539518321201, -0.7891549159711947, 0.1, 1100, 0.6199597561366581], [0.6245844294764514, -0.7892940859845066, 0.1, 1200, 0.6199598110233442], [0.6246059406272098, -0.789360744415373, 0.1, 1300, 0.619959823615087], [0.6246162438493019, -0.7893926718852344, 0.1, 1400, 0.6199598265038022], [0.6246211787961425, -0.7894079642243799, 0.1, 1500, 0.6199598271665123], [0.6246235424936445, -0.7894152888146959, 0.1, 1600, 0.6199598273185465], [0.6246246746367176, -0.7894187970826454, 0.1, 1700, 0.6199598273534253], [0.6246252169006646, -0.78942047744202, 0.1, 1800, 0.619959827361427]]\n",
      "[[0.488982418114479, -0.36909260998690835, 0.1, 100, 0.44357662457041314], [0.5596564800068143, -0.5880963314039478, 0.1, 200, 0.5794951521282048], [0.5935073215494343, -0.6929928107271148, 0.1, 300, 0.6106766874956355], [0.6097209003732713, -0.7432352052539346, 0.1, 400, 0.6178301504218762], [0.6174867379801682, -0.7672998661851342, 0.1, 500, 0.6194712508755296], [0.6212063506820862, -0.7788261461562151, 0.1, 600, 0.6198477413566783], [0.6229879381105926, -0.7843469025197298, 0.1, 700, 0.6199341133286563], [0.6238412672122421, -0.7869911859226795, 0.1, 800, 0.6199539282188511], [0.6242499872919143, -0.7882577215664776, 0.1, 900, 0.619958474020741], [0.6244457524465354, -0.7888643556871703, 0.1, 1000, 0.6199595168887364], [0.624539518321201, -0.7891549159711947, 0.1, 1100, 0.6199597561366581], [0.6245844294764514, -0.7892940859845066, 0.1, 1200, 0.6199598110233442], [0.6246059406272098, -0.789360744415373, 0.1, 1300, 0.619959823615087], [0.6246162438493019, -0.7893926718852344, 0.1, 1400, 0.6199598265038022], [0.6246211787961425, -0.7894079642243799, 0.1, 1500, 0.6199598271665123], [0.6246235424936445, -0.7894152888146959, 0.1, 1600, 0.6199598273185465], [0.6246246746367176, -0.7894187970826454, 0.1, 1700, 0.6199598273534253], [0.6246252169006646, -0.78942047744202, 0.1, 1800, 0.619959827361427], [0.6246254766294885, -0.7894212822857979, 0.1, 1900, 0.6199598273632628]]\n",
      "[[0.488982418114479, -0.36909260998690835, 0.1, 100, 0.44357662457041314], [0.5596564800068143, -0.5880963314039478, 0.1, 200, 0.5794951521282048], [0.5935073215494343, -0.6929928107271148, 0.1, 300, 0.6106766874956355], [0.6097209003732713, -0.7432352052539346, 0.1, 400, 0.6178301504218762], [0.6174867379801682, -0.7672998661851342, 0.1, 500, 0.6194712508755296], [0.6212063506820862, -0.7788261461562151, 0.1, 600, 0.6198477413566783], [0.6229879381105926, -0.7843469025197298, 0.1, 700, 0.6199341133286563], [0.6238412672122421, -0.7869911859226795, 0.1, 800, 0.6199539282188511], [0.6242499872919143, -0.7882577215664776, 0.1, 900, 0.619958474020741], [0.6244457524465354, -0.7888643556871703, 0.1, 1000, 0.6199595168887364], [0.624539518321201, -0.7891549159711947, 0.1, 1100, 0.6199597561366581], [0.6245844294764514, -0.7892940859845066, 0.1, 1200, 0.6199598110233442], [0.6246059406272098, -0.789360744415373, 0.1, 1300, 0.619959823615087], [0.6246162438493019, -0.7893926718852344, 0.1, 1400, 0.6199598265038022], [0.6246211787961425, -0.7894079642243799, 0.1, 1500, 0.6199598271665123], [0.6246235424936445, -0.7894152888146959, 0.1, 1600, 0.6199598273185465], [0.6246246746367176, -0.7894187970826454, 0.1, 1700, 0.6199598273534253], [0.6246252169006646, -0.78942047744202, 0.1, 1800, 0.619959827361427], [0.6246254766294885, -0.7894212822857979, 0.1, 1900, 0.6199598273632628], [0.6246256010321194, -0.7894216677828022, 0.1, 2000, 0.6199598273636839]]\n",
      "      theta0    theta1  ETA  Steps  Goodness of Fit\n",
      "0   0.488982 -0.369093  0.1    100         0.443577\n",
      "1   0.559656 -0.588096  0.1    200         0.579495\n",
      "2   0.593507 -0.692993  0.1    300         0.610677\n",
      "3   0.609721 -0.743235  0.1    400         0.617830\n",
      "4   0.617487 -0.767300  0.1    500         0.619471\n",
      "5   0.621206 -0.778826  0.1    600         0.619848\n",
      "6   0.622988 -0.784347  0.1    700         0.619934\n",
      "7   0.623841 -0.786991  0.1    800         0.619954\n",
      "8   0.624250 -0.788258  0.1    900         0.619958\n",
      "9   0.624446 -0.788864  0.1   1000         0.619960\n",
      "10  0.624540 -0.789155  0.1   1100         0.619960\n",
      "11  0.624584 -0.789294  0.1   1200         0.619960\n",
      "12  0.624606 -0.789361  0.1   1300         0.619960\n",
      "13  0.624616 -0.789393  0.1   1400         0.619960\n",
      "14  0.624621 -0.789408  0.1   1500         0.619960\n",
      "15  0.624624 -0.789415  0.1   1600         0.619960\n",
      "16  0.624625 -0.789419  0.1   1700         0.619960\n",
      "17  0.624625 -0.789420  0.1   1800         0.619960\n",
      "18  0.624625 -0.789421  0.1   1900         0.619960\n",
      "19  0.624626 -0.789422  0.1   2000         0.619960\n"
     ]
    },
    {
     "data": {
      "text/plain": [
       "<Axes: xlabel='Steps'>"
      ]
     },
     "execution_count": 15,
     "metadata": {},
     "output_type": "execute_result"
    },
    {
     "data": {
      "image/png": "[encoded data removed]",
      "text/plain": [
       "<Figure size 640x480 with 1 Axes>"
      ]
     },
     "metadata": {},
     "output_type": "display_data"
    }
   ],
   "source": [
    "#Code for generating outputs from various step numbers with constant eta. for linear_auto_dataframe   \n",
    "\n",
    "def computationV2Multipoint(featureListTargetDf, eta, step_gap, iterations):\n",
    "    featureListPlusOne = featureListTargetDf['featureListPlusOne']\n",
    "    numberOfFeaturesPlusOne = len(featureListPlusOne[0])\n",
    "    thetaValues = [0]*numberOfFeaturesPlusOne\n",
    "    thetasList = []\n",
    "    iteration = 0\n",
    "    step = 0\n",
    "    while iteration < iterations:\n",
    "        iteration_step_count = 0\n",
    "        while iteration_step_count < step_gap:\n",
    "            theta_iter = 0\n",
    "            while theta_iter < numberOfFeaturesPlusOne:\n",
    "                thetaValues[theta_iter] = thetaValues[theta_iter] - eta*calcDiff(featureListTargetDf, thetaValues, theta_iter)\n",
    "                theta_iter = theta_iter+1\n",
    "            step = step+1\n",
    "            iteration_step_count = iteration_step_count+1\n",
    "        result = thetaValues.copy()\n",
    "        GOF = goodnessOfFit(linear_auto_dataframe ,result)\n",
    "        result.append(eta)\n",
    "        result.append(step)\n",
    "        result.append(GOF)\n",
    "        #print(\"theta values = \\n\")\n",
    "        #print(thetaValues)\n",
    "        thetasList.append(result)\n",
    "        print(thetasList)\n",
    "        iteration = iteration+1\n",
    "    thetas_d1_auto_df2 = pd.DataFrame(data=thetasList,columns=['theta0', 'theta1', 'ETA', 'Steps', 'Goodness of Fit'])\n",
    "    print(thetas_d1_auto_df2)\n",
    "    return(thetas_d1_auto_df2)\n",
    "\n",
    "thetas_d1_auto_df2 = computationV2Multipoint(linear_auto_dataframe , 0.1, 100, 20)\n",
    "\n",
    "thetas_d1_auto_df2.plot(x=\"Steps\", y=[\"theta0\" ,\"theta1\", \"Goodness of Fit\" ])\n"
   ]
  },
  {
   "cell_type": "code",
   "execution_count": 16,
   "id": "182c4de2",
   "metadata": {},
   "outputs": [
    {
     "name": "stdout",
     "output_type": "stream",
     "text": [
      "[0.605437657202751, -0.6915166689402616]\n",
      "0.599246954556417\n"
     ]
    }
   ],
   "source": [
    "#generating thetas using SciKit Learn\n",
    "from sklearn.linear_model import SGDRegressor\n",
    "from sklearn.metrics import r2_score\n",
    "\n",
    "X = linear_auto[['hp_normalized']].to_numpy()\n",
    "y = linear_auto[['mpg_normalized']].to_numpy().ravel()\n",
    "\n",
    "Model = SGDRegressor(eta0 = 0.1 , max_iter = 1000)\n",
    "\n",
    "Model.fit(X,y)\n",
    "\n",
    "theta_sk_0 = Model.intercept_[0]\n",
    "theta_sk_1 = Model.coef_\n",
    "\n",
    "sklearn_theta_model = [theta_sk_0, theta_sk_1[0]]\n",
    "\n",
    "print(sklearn_theta_model)\n",
    "\n",
    "#fitnes\n",
    "y_pred = Model.predict(X)\n",
    "\n",
    "r2 = r2_score(y, y_pred)\n",
    "\n",
    "print(r2)"
   ]
  },
  {
   "cell_type": "code",
   "execution_count": 17,
   "id": "363f91d3",
   "metadata": {},
   "outputs": [
    {
     "name": "stdout",
     "output_type": "stream",
     "text": [
      "[0.6244457524465354, -0.7888643556871703]\n"
     ]
    }
   ],
   "source": [
    "#computing theta final theta\n",
    "final_theta_model = computationV2(linear_auto_dataframe,0.1,1000)\n",
    "\n",
    "print(final_theta_model)"
   ]
  },
  {
   "cell_type": "code",
   "execution_count": 21,
   "id": "24c42b8e",
   "metadata": {},
   "outputs": [],
   "source": [
    "#processing data for plotting\n",
    "linear_auto_training, linear_auto_testing\n",
    "\n",
    "training_mpg_list = linear_auto_training[:,0].tolist()\n",
    "training_hp_list = linear_auto_training[:,1].tolist()\n",
    "\n",
    "test_mpg_list = linear_auto_testing[:,0].tolist()\n",
    "test_hp_list = linear_auto_testing[:,1].tolist()"
   ]
  },
  {
   "cell_type": "code",
   "execution_count": 23,
   "id": "99bf79fb",
   "metadata": {},
   "outputs": [
    {
     "data": {
      "text/plain": [
       "[<matplotlib.lines.Line2D at 0x249c2724c10>]"
      ]
     },
     "execution_count": 23,
     "metadata": {},
     "output_type": "execute_result"
    },
    {
     "data": {
      "image/png": "[encoded data removed]",
      "text/plain": [
       "<Figure size 800x600 with 1 Axes>"
      ]
     },
     "metadata": {},
     "output_type": "display_data"
    }
   ],
   "source": [
    "#final plot\n",
    "plt.style.use('_mpl-gallery')\n",
    "fig, ax = plt.subplots() \n",
    "fig.set_size_inches(8,6)\n",
    "\n",
    "\n",
    "#ax.scatter(list(linear_auto['hp_normalized']) , list(linear_auto['mpg_normalized']), label = 'data point', color = 'green')\n",
    "ax.scatter(training_hp_list , training_mpg_list, label = 'data point', color = 'green')\n",
    "ax.scatter(test_hp_list , test_mpg_list, label = 'data point', color = 'pink')\n",
    "\n",
    "#model visualization\n",
    "x_values = np.linspace(-0.1, 1.1, 250)\n",
    "y_values = final_theta_model[1] * x_values + final_theta_model[0]\n",
    "y_sklearn_values = theta_sk_1[0] * x_values + theta_sk_0\n",
    "\n",
    "ax.plot(x_values, y_values, label='calculated regression line', color='red' )\n",
    "\n",
    "ax.plot(x_values, y_sklearn_values, label='validation line', color='blue' )"
   ]
  },
  {
   "cell_type": "code",
   "execution_count": 27,
   "id": "ba3b00db",
   "metadata": {},
   "outputs": [
    {
     "name": "stdout",
     "output_type": "stream",
     "text": [
      "          hp  mpg_predicted  mpg_observed  abs_diff\n",
      "0   0.152174       0.504401      0.601064  0.096663\n",
      "1   0.228261       0.444379      0.428191  0.016187\n",
      "2   0.347826       0.350058      0.425532  0.075474\n",
      "3   0.880435      -0.070098      0.053191  0.123289\n",
      "4   0.217391       0.452954      0.345745  0.107209\n",
      "..       ...            ...           ...       ...\n",
      "93  0.358696       0.341484      0.345745  0.004261\n",
      "94  0.135870       0.517263      0.609043  0.091779\n",
      "95  0.277174       0.405793      0.398936  0.006857\n",
      "96  0.646739       0.114256      0.231383  0.117127\n",
      "97  0.103261       0.542987      0.845745  0.302758\n",
      "\n",
      "[98 rows x 4 columns]\n",
      "0.08652783286057944\n"
     ]
    }
   ],
   "source": [
    "#Validating model with testing data and calculating absolute difference of predicted and observed target values\n",
    "mpg_predicted = [final_theta_model[1] * xi + final_theta_model[0] for xi in test_hp_list]\n",
    "\n",
    "analysis_df = pd.DataFrame({\n",
    "    'hp': test_hp_list,\n",
    "    'mpg_predicted': mpg_predicted,\n",
    "    'mpg_observed': test_mpg_list,\n",
    "    'abs_diff': [abs(y_obs - y_calc) for y_obs, y_calc in zip(test_mpg_list, mpg_predicted)]\n",
    "})\n",
    "\n",
    "mean_abs_diff = analysis_df['abs_diff'].mean()\n",
    "\n",
    "print(analysis_df)\n",
    "print(mean_abs_diff)"
   ]
  },
  {
   "cell_type": "code",
   "execution_count": null,
   "id": "e0c59b59",
   "metadata": {},
   "outputs": [],
   "source": []
  }
 ],
 "metadata": {
  "kernelspec": {
   "display_name": "Python 3 (ipykernel)",
   "language": "python",
   "name": "python3"
  },
  "language_info": {
   "codemirror_mode": {
    "name": "ipython",
    "version": 3
   },
   "file_extension": ".py",
   "mimetype": "text/x-python",
   "name": "python",
   "nbconvert_exporter": "python",
   "pygments_lexer": "ipython3",
   "version": "3.11.4"
  }
 },
 "nbformat": 4,
 "nbformat_minor": 5
}
